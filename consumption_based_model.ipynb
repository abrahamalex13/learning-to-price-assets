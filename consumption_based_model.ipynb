{
 "cells": [
  {
   "cell_type": "code",
   "execution_count": 54,
   "metadata": {},
   "outputs": [],
   "source": [
    "import plotly.graph_objects as go\n",
    "import pandas as pd\n",
    "import numpy as np\n",
    "import plotnine as p9\n",
    "from functools import partial\n",
    "from collections.abc import Callable\n",
    "import itertools"
   ]
  },
  {
   "cell_type": "code",
   "execution_count": 118,
   "metadata": {},
   "outputs": [],
   "source": [
    "# create the grid of pairs (consumption today, tomorrow)\n",
    "amounts_consumption = np.linspace(0, 1000, 50).round(0).astype(int)\n",
    "\n",
    "def expand_grid(data_dict):\n",
    "    rows = itertools.product(*data_dict.values())\n",
    "    return pd.DataFrame.from_records(rows, columns=data_dict.keys())\n",
    "\n",
    "outcomes_wellbeing = expand_grid({'consumption_today': amounts_consumption, 'consumption_tomorrow': amounts_consumption})"
   ]
  },
  {
   "cell_type": "code",
   "execution_count": 119,
   "metadata": {},
   "outputs": [],
   "source": [
    "def transform_wellbeing(consumption, strength_of_diminishing: float): \n",
    "    \"\"\"\n",
    "    Wellbeing also known as 'utility', in economics jargon.\n",
    "    Wooldridge associates the two terms in _Introductory Econometrics_ (Section 1-2).\n",
    "    Cochrane's _Asset Pricing_ presents a convenient functional form.\n",
    "\n",
    "    Expect strength_of_diminishing in [0, 1).\n",
    "    strength_of_diminishing=0 implies, more consumption yields constant improvement in wellbeing.\n",
    "    \"\"\"\n",
    "\n",
    "    wellbeing = ( 1 / (1 - strength_of_diminishing) ) * consumption**(1-strength_of_diminishing)\n",
    "\n",
    "    return wellbeing\n",
    "\n",
    "def transform_lifetime_wellbeing(\n",
    "    wellbeing_func: Callable,\n",
    "    consumption_today, \n",
    "    consumption_expected_tomorrow, \n",
    "    subjective_discount_factor: float\n",
    "    ):\n",
    "    \"\"\"\n",
    "    Wellbeing also known as 'utility', in economics jargon.\n",
    "    Wooldridge associates the two terms in _Introductory Econometrics_ (Section 1-2).\n",
    "\n",
    "    Cochrane's _Asset Pricing_ presents a convenient functional form.\n",
    "    \"\"\"\n",
    "\n",
    "    wellbeing_today = wellbeing_func(consumption_today)\n",
    "    wellbeing_expected_tomorrow = subjective_discount_factor * wellbeing_func(consumption_expected_tomorrow)\n",
    "    lifetime_wellbeing = wellbeing_today + wellbeing_expected_tomorrow\n",
    "\n",
    "    return lifetime_wellbeing"
   ]
  },
  {
   "cell_type": "code",
   "execution_count": 120,
   "metadata": {},
   "outputs": [],
   "source": [
    "# classical discount factor equals 1 / risk_free_gross_rate; \n",
    "# suppose 5% risk free net rate\n",
    "SUBJECTIVE_DISCOUNT_FACTOR = 1 / 1.05\n",
    "STRENGTH_OF_DIMINISHING = 0.5\n",
    "\n",
    "wellbeing_curve = partial(transform_wellbeing, strength_of_diminishing=STRENGTH_OF_DIMINISHING)\n",
    "\n",
    "outcomes_wellbeing['lifetime_wellbeing'] = transform_lifetime_wellbeing(\n",
    "    wellbeing_curve, \n",
    "    outcomes_wellbeing['consumption_today'], \n",
    "    outcomes_wellbeing['consumption_tomorrow'], \n",
    "    SUBJECTIVE_DISCOUNT_FACTOR\n",
    "    )"
   ]
  },
  {
   "cell_type": "code",
   "execution_count": null,
   "metadata": {},
   "outputs": [
    {
     "data": {
      "application/vnd.plotly.v1+json": {
       "config": {
        "plotlyServerURL": "https://plot.ly"
       },
       "data": [
        {
         "contours": {
          "z": {
           "highlightcolor": "limegreen",
           "project": {
            "z": true
           },
           "show": true,
           "usecolormap": true
          }
         },
         "type": "surface",
         "x": {
          "bdata": "AAAUACkAPQBSAGYAegCPAKMAuADMAOAA9QAJAR4BMgFHAVsBbwGEAZgBrQHBAdUB6gH+ARMCJwI7AlACZAJ5Ao0CoQK2AsoC3wLzAggDHAMwA0UDWQNuA4IDlgOrA78D1APoAw==",
          "dtype": "i2"
         },
         "y": {
          "bdata": "AAAUACkAPQBSAGYAegCPAKMAuADMAOAA9QAJAR4BMgFHAVsBbwGEAZgBrQHBAdUB6gH+ARMCJwI7AlACZAJ5Ao0CoQK2AsoC3wLzAggDHAMwA0UDWQNuA4IDlgOrA78D1APoAw==",
          "dtype": "i2"
         },
         "z": {
          "bdata": "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",
          "dtype": "f8",
          "shape": "50, 50"
         }
        }
       ],
       "layout": {
        "scene": {
         "camera": {
          "eye": {
           "x": 2.5,
           "y": 0.88,
           "z": 0.5
          }
         },
         "xaxis": {
          "title": {
           "text": "Consumption <br>Expected Tomorrow"
          }
         },
         "yaxis": {
          "title": {
           "text": "Consumption Today"
          }
         },
         "zaxis": {
          "title": {
           "text": "Lifetime Wellbeing"
          }
         }
        },
        "template": {
         "data": {
          "bar": [
           {
            "error_x": {
             "color": "#2a3f5f"
            },
            "error_y": {
             "color": "#2a3f5f"
            },
            "marker": {
             "line": {
              "color": "#E5ECF6",
              "width": 0.5
             },
             "pattern": {
              "fillmode": "overlay",
              "size": 10,
              "solidity": 0.2
             }
            },
            "type": "bar"
           }
          ],
          "barpolar": [
           {
            "marker": {
             "line": {
              "color": "#E5ECF6",
              "width": 0.5
             },
             "pattern": {
              "fillmode": "overlay",
              "size": 10,
              "solidity": 0.2
             }
            },
            "type": "barpolar"
           }
          ],
          "carpet": [
           {
            "aaxis": {
             "endlinecolor": "#2a3f5f",
             "gridcolor": "white",
             "linecolor": "white",
             "minorgridcolor": "white",
             "startlinecolor": "#2a3f5f"
            },
            "baxis": {
             "endlinecolor": "#2a3f5f",
             "gridcolor": "white",
             "linecolor": "white",
             "minorgridcolor": "white",
             "startlinecolor": "#2a3f5f"
            },
            "type": "carpet"
           }
          ],
          "choropleth": [
           {
            "colorbar": {
             "outlinewidth": 0,
             "ticks": ""
            },
            "type": "choropleth"
           }
          ],
          "contour": [
           {
            "colorbar": {
             "outlinewidth": 0,
             "ticks": ""
            },
            "colorscale": [
             [
              0,
              "#0d0887"
             ],
             [
              0.1111111111111111,
              "#46039f"
             ],
             [
              0.2222222222222222,
              "#7201a8"
             ],
             [
              0.3333333333333333,
              "#9c179e"
             ],
             [
              0.4444444444444444,
              "#bd3786"
             ],
             [
              0.5555555555555556,
              "#d8576b"
             ],
             [
              0.6666666666666666,
              "#ed7953"
             ],
             [
              0.7777777777777778,
              "#fb9f3a"
             ],
             [
              0.8888888888888888,
              "#fdca26"
             ],
             [
              1,
              "#f0f921"
             ]
            ],
            "type": "contour"
           }
          ],
          "contourcarpet": [
           {
            "colorbar": {
             "outlinewidth": 0,
             "ticks": ""
            },
            "type": "contourcarpet"
           }
          ],
          "heatmap": [
           {
            "colorbar": {
             "outlinewidth": 0,
             "ticks": ""
            },
            "colorscale": [
             [
              0,
              "#0d0887"
             ],
             [
              0.1111111111111111,
              "#46039f"
             ],
             [
              0.2222222222222222,
              "#7201a8"
             ],
             [
              0.3333333333333333,
              "#9c179e"
             ],
             [
              0.4444444444444444,
              "#bd3786"
             ],
             [
              0.5555555555555556,
              "#d8576b"
             ],
             [
              0.6666666666666666,
              "#ed7953"
             ],
             [
              0.7777777777777778,
              "#fb9f3a"
             ],
             [
              0.8888888888888888,
              "#fdca26"
             ],
             [
              1,
              "#f0f921"
             ]
            ],
            "type": "heatmap"
           }
          ],
          "histogram": [
           {
            "marker": {
             "pattern": {
              "fillmode": "overlay",
              "size": 10,
              "solidity": 0.2
             }
            },
            "type": "histogram"
           }
          ],
          "histogram2d": [
           {
            "colorbar": {
             "outlinewidth": 0,
             "ticks": ""
            },
            "colorscale": [
             [
              0,
              "#0d0887"
             ],
             [
              0.1111111111111111,
              "#46039f"
             ],
             [
              0.2222222222222222,
              "#7201a8"
             ],
             [
              0.3333333333333333,
              "#9c179e"
             ],
             [
              0.4444444444444444,
              "#bd3786"
             ],
             [
              0.5555555555555556,
              "#d8576b"
             ],
             [
              0.6666666666666666,
              "#ed7953"
             ],
             [
              0.7777777777777778,
              "#fb9f3a"
             ],
             [
              0.8888888888888888,
              "#fdca26"
             ],
             [
              1,
              "#f0f921"
             ]
            ],
            "type": "histogram2d"
           }
          ],
          "histogram2dcontour": [
           {
            "colorbar": {
             "outlinewidth": 0,
             "ticks": ""
            },
            "colorscale": [
             [
              0,
              "#0d0887"
             ],
             [
              0.1111111111111111,
              "#46039f"
             ],
             [
              0.2222222222222222,
              "#7201a8"
             ],
             [
              0.3333333333333333,
              "#9c179e"
             ],
             [
              0.4444444444444444,
              "#bd3786"
             ],
             [
              0.5555555555555556,
              "#d8576b"
             ],
             [
              0.6666666666666666,
              "#ed7953"
             ],
             [
              0.7777777777777778,
              "#fb9f3a"
             ],
             [
              0.8888888888888888,
              "#fdca26"
             ],
             [
              1,
              "#f0f921"
             ]
            ],
            "type": "histogram2dcontour"
           }
          ],
          "mesh3d": [
           {
            "colorbar": {
             "outlinewidth": 0,
             "ticks": ""
            },
            "type": "mesh3d"
           }
          ],
          "parcoords": [
           {
            "line": {
             "colorbar": {
              "outlinewidth": 0,
              "ticks": ""
             }
            },
            "type": "parcoords"
           }
          ],
          "pie": [
           {
            "automargin": true,
            "type": "pie"
           }
          ],
          "scatter": [
           {
            "fillpattern": {
             "fillmode": "overlay",
             "size": 10,
             "solidity": 0.2
            },
            "type": "scatter"
           }
          ],
          "scatter3d": [
           {
            "line": {
             "colorbar": {
              "outlinewidth": 0,
              "ticks": ""
             }
            },
            "marker": {
             "colorbar": {
              "outlinewidth": 0,
              "ticks": ""
             }
            },
            "type": "scatter3d"
           }
          ],
          "scattercarpet": [
           {
            "marker": {
             "colorbar": {
              "outlinewidth": 0,
              "ticks": ""
             }
            },
            "type": "scattercarpet"
           }
          ],
          "scattergeo": [
           {
            "marker": {
             "colorbar": {
              "outlinewidth": 0,
              "ticks": ""
             }
            },
            "type": "scattergeo"
           }
          ],
          "scattergl": [
           {
            "marker": {
             "colorbar": {
              "outlinewidth": 0,
              "ticks": ""
             }
            },
            "type": "scattergl"
           }
          ],
          "scattermap": [
           {
            "marker": {
             "colorbar": {
              "outlinewidth": 0,
              "ticks": ""
             }
            },
            "type": "scattermap"
           }
          ],
          "scattermapbox": [
           {
            "marker": {
             "colorbar": {
              "outlinewidth": 0,
              "ticks": ""
             }
            },
            "type": "scattermapbox"
           }
          ],
          "scatterpolar": [
           {
            "marker": {
             "colorbar": {
              "outlinewidth": 0,
              "ticks": ""
             }
            },
            "type": "scatterpolar"
           }
          ],
          "scatterpolargl": [
           {
            "marker": {
             "colorbar": {
              "outlinewidth": 0,
              "ticks": ""
             }
            },
            "type": "scatterpolargl"
           }
          ],
          "scatterternary": [
           {
            "marker": {
             "colorbar": {
              "outlinewidth": 0,
              "ticks": ""
             }
            },
            "type": "scatterternary"
           }
          ],
          "surface": [
           {
            "colorbar": {
             "outlinewidth": 0,
             "ticks": ""
            },
            "colorscale": [
             [
              0,
              "#0d0887"
             ],
             [
              0.1111111111111111,
              "#46039f"
             ],
             [
              0.2222222222222222,
              "#7201a8"
             ],
             [
              0.3333333333333333,
              "#9c179e"
             ],
             [
              0.4444444444444444,
              "#bd3786"
             ],
             [
              0.5555555555555556,
              "#d8576b"
             ],
             [
              0.6666666666666666,
              "#ed7953"
             ],
             [
              0.7777777777777778,
              "#fb9f3a"
             ],
             [
              0.8888888888888888,
              "#fdca26"
             ],
             [
              1,
              "#f0f921"
             ]
            ],
            "type": "surface"
           }
          ],
          "table": [
           {
            "cells": {
             "fill": {
              "color": "#EBF0F8"
             },
             "line": {
              "color": "white"
             }
            },
            "header": {
             "fill": {
              "color": "#C8D4E3"
             },
             "line": {
              "color": "white"
             }
            },
            "type": "table"
           }
          ]
         },
         "layout": {
          "annotationdefaults": {
           "arrowcolor": "#2a3f5f",
           "arrowhead": 0,
           "arrowwidth": 1
          },
          "autotypenumbers": "strict",
          "coloraxis": {
           "colorbar": {
            "outlinewidth": 0,
            "ticks": ""
           }
          },
          "colorscale": {
           "diverging": [
            [
             0,
             "#8e0152"
            ],
            [
             0.1,
             "#c51b7d"
            ],
            [
             0.2,
             "#de77ae"
            ],
            [
             0.3,
             "#f1b6da"
            ],
            [
             0.4,
             "#fde0ef"
            ],
            [
             0.5,
             "#f7f7f7"
            ],
            [
             0.6,
             "#e6f5d0"
            ],
            [
             0.7,
             "#b8e186"
            ],
            [
             0.8,
             "#7fbc41"
            ],
            [
             0.9,
             "#4d9221"
            ],
            [
             1,
             "#276419"
            ]
           ],
           "sequential": [
            [
             0,
             "#0d0887"
            ],
            [
             0.1111111111111111,
             "#46039f"
            ],
            [
             0.2222222222222222,
             "#7201a8"
            ],
            [
             0.3333333333333333,
             "#9c179e"
            ],
            [
             0.4444444444444444,
             "#bd3786"
            ],
            [
             0.5555555555555556,
             "#d8576b"
            ],
            [
             0.6666666666666666,
             "#ed7953"
            ],
            [
             0.7777777777777778,
             "#fb9f3a"
            ],
            [
             0.8888888888888888,
             "#fdca26"
            ],
            [
             1,
             "#f0f921"
            ]
           ],
           "sequentialminus": [
            [
             0,
             "#0d0887"
            ],
            [
             0.1111111111111111,
             "#46039f"
            ],
            [
             0.2222222222222222,
             "#7201a8"
            ],
            [
             0.3333333333333333,
             "#9c179e"
            ],
            [
             0.4444444444444444,
             "#bd3786"
            ],
            [
             0.5555555555555556,
             "#d8576b"
            ],
            [
             0.6666666666666666,
             "#ed7953"
            ],
            [
             0.7777777777777778,
             "#fb9f3a"
            ],
            [
             0.8888888888888888,
             "#fdca26"
            ],
            [
             1,
             "#f0f921"
            ]
           ]
          },
          "colorway": [
           "#636efa",
           "#EF553B",
           "#00cc96",
           "#ab63fa",
           "#FFA15A",
           "#19d3f3",
           "#FF6692",
           "#B6E880",
           "#FF97FF",
           "#FECB52"
          ],
          "font": {
           "color": "#2a3f5f"
          },
          "geo": {
           "bgcolor": "white",
           "lakecolor": "white",
           "landcolor": "#E5ECF6",
           "showlakes": true,
           "showland": true,
           "subunitcolor": "white"
          },
          "hoverlabel": {
           "align": "left"
          },
          "hovermode": "closest",
          "mapbox": {
           "style": "light"
          },
          "paper_bgcolor": "white",
          "plot_bgcolor": "#E5ECF6",
          "polar": {
           "angularaxis": {
            "gridcolor": "white",
            "linecolor": "white",
            "ticks": ""
           },
           "bgcolor": "#E5ECF6",
           "radialaxis": {
            "gridcolor": "white",
            "linecolor": "white",
            "ticks": ""
           }
          },
          "scene": {
           "xaxis": {
            "backgroundcolor": "#E5ECF6",
            "gridcolor": "white",
            "gridwidth": 2,
            "linecolor": "white",
            "showbackground": true,
            "ticks": "",
            "zerolinecolor": "white"
           },
           "yaxis": {
            "backgroundcolor": "#E5ECF6",
            "gridcolor": "white",
            "gridwidth": 2,
            "linecolor": "white",
            "showbackground": true,
            "ticks": "",
            "zerolinecolor": "white"
           },
           "zaxis": {
            "backgroundcolor": "#E5ECF6",
            "gridcolor": "white",
            "gridwidth": 2,
            "linecolor": "white",
            "showbackground": true,
            "ticks": "",
            "zerolinecolor": "white"
           }
          },
          "shapedefaults": {
           "line": {
            "color": "#2a3f5f"
           }
          },
          "ternary": {
           "aaxis": {
            "gridcolor": "white",
            "linecolor": "white",
            "ticks": ""
           },
           "baxis": {
            "gridcolor": "white",
            "linecolor": "white",
            "ticks": ""
           },
           "bgcolor": "#E5ECF6",
           "caxis": {
            "gridcolor": "white",
            "linecolor": "white",
            "ticks": ""
           }
          },
          "title": {
           "x": 0.05
          },
          "xaxis": {
           "automargin": true,
           "gridcolor": "white",
           "linecolor": "white",
           "ticks": "",
           "title": {
            "standoff": 15
           },
           "zerolinecolor": "white",
           "zerolinewidth": 2
          },
          "yaxis": {
           "automargin": true,
           "gridcolor": "white",
           "linecolor": "white",
           "ticks": "",
           "title": {
            "standoff": 15
           },
           "zerolinecolor": "white",
           "zerolinewidth": 2
          }
         }
        },
        "title": {
         "text": "Lifetime Wellbeing"
        }
       }
      }
     },
     "metadata": {},
     "output_type": "display_data"
    }
   ],
   "source": [
    "# 3d area plotly requires a particular data structure.\n",
    "# examples reference: https://plotly.com/python/3d-surface-plots/\n",
    "todays_wellbeing = outcomes_wellbeing.pivot(index='consumption_today', columns='consumption_tomorrow')['lifetime_wellbeing']\n",
    "\n",
    "# choose x and y axis series to clarify the user's view.\n",
    "# decision interacts with the 3d visual's angle presented\n",
    "y=todays_wellbeing.index.values\n",
    "x=todays_wellbeing.columns.values\n",
    "z=todays_wellbeing.values.round(1)\n",
    "titles_axes = dict(\n",
    "    yaxis_title_text=\"Consumption Today\",\n",
    "    xaxis_title_text='Consumption <br>Expected Tomorrow', \n",
    "    zaxis_title_text=\"Lifetime Wellbeing\"\n",
    "    )\n",
    "\n",
    "fig = go.Figure(data=[go.Surface(z=z, x=x, y=y)])\n",
    "\n",
    "fig.update_traces(contours_z=dict(show=True, usecolormap=True, highlightcolor=\"limegreen\", project_z=True))\n",
    "\n",
    "# better view in the web browser when autosize allowed\n",
    "fig.update_layout(\n",
    "    title=dict(text='Lifetime Wellbeing'), \n",
    "    scene_camera_eye=dict(x=2.5, y=0.88, z=0.5),\n",
    "    )\n",
    "\n",
    "# 3d plots axis titles have special access method, vs 2d\n",
    "# reference: https://community.plotly.com/t/how-to-update-x-y-and-z-axes-titles-for-3d-surface-plots-within-a-subplot/45495\n",
    "fig.update_scenes(**titles_axes)\n",
    "\n",
    "fig.show()"
   ]
  },
  {
   "cell_type": "code",
   "execution_count": 184,
   "metadata": {},
   "outputs": [],
   "source": [
    "fig.write_html(\"./docs/lifetime_wellbeing_plot.html\", include_plotlyjs='cdn')"
   ]
  },
  {
   "cell_type": "markdown",
   "metadata": {},
   "source": [
    "# Appendix"
   ]
  },
  {
   "cell_type": "code",
   "execution_count": null,
   "metadata": {},
   "outputs": [],
   "source": [
    "# intuit how wellbeing curve varies with gamma\n",
    "tunes_wellbeing = []\n",
    "for g in [0, 0.1, 0.25, 0.5, 0.75, 0.9]:\n",
    "    outcomes_wellbeing = transform_wellbeing(amounts_consumption, g)\n",
    "    outcomes_wellbeing = pd.DataFrame({\n",
    "        'consumption': amounts_consumption,\n",
    "        'wellbeing': outcomes_wellbeing,\n",
    "        'gamma': g\n",
    "    })\n",
    "    tunes_wellbeing.append(outcomes_wellbeing)\n",
    "\n",
    "tunes_wellbeing = pd.concat(tunes_wellbeing, axis=0, ignore_index=True)"
   ]
  },
  {
   "cell_type": "code",
   "execution_count": null,
   "metadata": {},
   "outputs": [
    {
     "data": {
      "image/png": "[encoded data removed]"
     },
     "metadata": {},
     "output_type": "display_data"
    }
   ],
   "source": [
    "(\n",
    "    p9.ggplot(tunes_wellbeing) + \n",
    "    p9.theme_bw() + \n",
    "    p9.geom_line(p9.aes('consumption', 'wellbeing', color='gamma', group='gamma')) + \n",
    "    p9.theme(figure_size=(8,3))\n",
    ")"
   ]
  },
  {
   "cell_type": "code",
   "execution_count": 168,
   "metadata": {},
   "outputs": [],
   "source": [
    "# example shows the special data structure expected by plotly\n",
    "# https://plotly.com/python/3d-scatter-plots/\n",
    "\n",
    "# Read data from a csv\n",
    "# z_data = pd.read_csv('https://raw.githubusercontent.com/plotly/datasets/master/api_docs/mt_bruno_elevation.csv')\n",
    "# z = z_data.values\n",
    "# sh_0, sh_1 = z.shape\n",
    "# x, y = np.linspace(0, 1, sh_0), np.linspace(0, 1, sh_1)\n",
    "# fig = go.Figure(data=[go.Surface(z=z, x=x, y=y)])\n",
    "# fig.update_layout(title=dict(text='Mt Bruno Elevation'), autosize=False,\n",
    "#                   width=500, height=500,\n",
    "#                   margin=dict(l=65, r=50, b=65, t=90))\n",
    "# fig.show()"
   ]
  },
  {
   "cell_type": "code",
   "execution_count": null,
   "metadata": {},
   "outputs": [],
   "source": [
    "# test: can i embed a plotly chart via html?\n",
    "fig = go.Figure(data=[go.Scatter(x=[1, 2, 3], y=[1, 4, 9])])\n",
    "\n",
    "# successful alternative: host via GitHub Pages\n",
    "# https://community.plotly.com/t/how-to-display-plotly-graph-on-github-pages/44398/3\n",
    "# steps:\n",
    "    # enable GitHub Pages in my repo\n",
    "    # write plot to html file\n",
    "# fig.write_html(\"./docs/test_plot.html\", include_plotlyjs='cdn')\n",
    "# https://abrahamalex13.github.io/learning-to-price-assets/test_plot\n",
    "\n",
    "# did not work: pasting below in Substack html editor\n",
    "# <div class=\"plotly-plot\"> {{ html_string }} </div>\n",
    "# where html_string -> \n",
    "    # html_string = fig.to_html(full_html=False, include_plotlyjs='cdn')\n",
    "    # print(html_string)"
   ]
  }
 ],
 "metadata": {
  "kernelspec": {
   "display_name": "learning_to_price_assets",
   "language": "python",
   "name": "python3"
  },
  "language_info": {
   "codemirror_mode": {
    "name": "ipython",
    "version": 3
   },
   "file_extension": ".py",
   "mimetype": "text/x-python",
   "name": "python",
   "nbconvert_exporter": "python",
   "pygments_lexer": "ipython3",
   "version": "3.10.16"
  }
 },
 "nbformat": 4,
 "nbformat_minor": 2
}
