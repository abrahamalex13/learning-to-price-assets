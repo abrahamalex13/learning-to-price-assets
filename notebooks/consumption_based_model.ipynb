{
 "cells": [
  {
   "cell_type": "code",
   "execution_count": 1,
   "metadata": {},
   "outputs": [],
   "source": [
    "import plotly.graph_objects as go\n",
    "import pandas as pd\n",
    "import numpy as np\n",
    "import plotnine as p9\n",
    "from functools import partial\n",
    "import itertools"
   ]
  },
  {
   "cell_type": "code",
   "execution_count": 2,
   "metadata": {},
   "outputs": [],
   "source": [
    "# create the grid of pairs (consumption today, tomorrow)\n",
    "amounts_consumption = np.linspace(0, 1000, 100).round(0).astype(int)\n",
    "\n",
    "def expand_grid(data_dict):\n",
    "    \"\"\"\n",
    "    SOURCE: https://pandas.pydata.org/docs/user_guide/cookbook.html\n",
    "    \"\"\"\n",
    "    rows = itertools.product(*data_dict.values())\n",
    "    return pd.DataFrame.from_records(rows, columns=data_dict.keys())\n",
    "\n",
    "outcomes_wellbeing = expand_grid({'consumption_today': amounts_consumption, 'consumption_tomorrow': amounts_consumption})"
   ]
  },
  {
   "cell_type": "code",
   "execution_count": null,
   "metadata": {},
   "outputs": [],
   "source": [
    "transform_wellbeing_power_form(10, 0.5)"
   ]
  },
  {
   "cell_type": "code",
   "execution_count": 4,
   "metadata": {},
   "outputs": [],
   "source": [
    "# classical discount factor equals 1 / risk_free_gross_rate; \n",
    "# suppose 5% risk free net rate\n",
    "SUBJECTIVE_DISCOUNT_FACTOR = 1 / 1.05\n",
    "STRENGTH_OF_DIMINISHING = 0.5\n",
    "\n",
    "wellbeing_curve = partial(transform_wellbeing_power_form, strength_of_diminishing=STRENGTH_OF_DIMINISHING)\n",
    "\n",
    "lifetime_wellbeing_curve = partial(\n",
    "    transform_lifetime_wellbeing, \n",
    "    wellbeing_func=wellbeing_curve, \n",
    "    subjective_discount_factor=SUBJECTIVE_DISCOUNT_FACTOR\n",
    "    )\n",
    "\n",
    "outcomes_wellbeing['lifetime_wellbeing'] = lifetime_wellbeing_curve(\n",
    "    consumption_today=outcomes_wellbeing['consumption_today'], \n",
    "    consumption_expected_tomorrow=outcomes_wellbeing['consumption_tomorrow']\n",
    "    )"
   ]
  },
  {
   "cell_type": "code",
   "execution_count": null,
   "metadata": {},
   "outputs": [],
   "source": [
    "# 3d area plotly requires a particular data structure.\n",
    "# examples reference: https://plotly.com/python/3d-surface-plots/\n",
    "todays_wellbeing = outcomes_wellbeing.pivot(index='consumption_today', columns='consumption_tomorrow')['lifetime_wellbeing']\n",
    "\n",
    "# choose x and y axis series to clarify the user's view.\n",
    "# decision interacts with the 3d visual's angle presented\n",
    "y=todays_wellbeing.index.values\n",
    "x=todays_wellbeing.columns.values\n",
    "z=todays_wellbeing.values.round(1)\n",
    "titles_axes = dict(\n",
    "    yaxis_title_text=\"Consumption Today\",\n",
    "    xaxis_title_text='Consumption <br>Expected Tomorrow', \n",
    "    zaxis_title_text=\"Lifetime Wellbeing\"\n",
    "    )\n",
    "\n",
    "fig = go.Figure(data=[go.Surface(z=z, x=x, y=y)])\n",
    "\n",
    "fig.update_traces(\n",
    "    contours_z=dict(show=True, usecolormap=True, highlightcolor=\"limegreen\", project_z=True),\n",
    "    hovertemplate=(\n",
    "        \"Consumption Today: %{y}<br>\" + \n",
    "        \"Consumption Expected Tomorrow: %{x}<br>\" + \n",
    "        \"Lifetime Wellbeing: %{z}<br>\" + \n",
    "        \"<extra></extra>\" # remove trace name\n",
    "        )\n",
    "    )\n",
    "\n",
    "# better view in the web browser when autosize allowed\n",
    "fig.update_layout(\n",
    "    title=dict(text='Lifetime Wellbeing Varies with Consumption'), \n",
    "    scene_camera_eye=dict(x=2.5, y=0.88, z=0.5),\n",
    "    )\n",
    "\n",
    "# 3d plots axis titles have special access method, vs 2d\n",
    "# reference: https://community.plotly.com/t/how-to-update-x-y-and-z-axes-titles-for-3d-surface-plots-within-a-subplot/45495\n",
    "fig.update_scenes(**titles_axes)\n",
    "\n",
    "fig.show()\n",
    "\n",
    "# fig.write_html(\"./docs/lifetime_wellbeing_plot.html\", include_plotlyjs='cdn')"
   ]
  },
  {
   "cell_type": "code",
   "execution_count": 10,
   "metadata": {},
   "outputs": [],
   "source": [
    "wellbeing_dwdc_curve = partial(transform_wellbeing_power_form_dwdc, strength_of_diminishing=STRENGTH_OF_DIMINISHING)\n",
    "\n",
    "price_curve = partial(infer_price, wellbeing_dwdc=wellbeing_dwdc_curve, subjective_discount_factor=SUBJECTIVE_DISCOUNT_FACTOR)\n",
    "\n",
    "def present_price_wellbeing(consumption_today, consumption_tomorrow, payoff_asset):\n",
    "\n",
    "    lifetime_wellbeing = lifetime_wellbeing_curve(\n",
    "        consumption_today=consumption_today, \n",
    "        consumption_expected_tomorrow=consumption_tomorrow\n",
    "        )\n",
    "    \n",
    "    price = price_curve(\n",
    "        consumption_today=consumption_today, \n",
    "        consumption_tomorrow=consumption_tomorrow, \n",
    "        payoff_asset=payoff_asset\n",
    "        )\n",
    "\n",
    "    print(f\"Lifetime wellbeing: {lifetime_wellbeing}, price: {price}\")"
   ]
  },
  {
   "cell_type": "code",
   "execution_count": null,
   "metadata": {},
   "outputs": [],
   "source": [
    "# hypothesis: when asset payoff rises, then price rises\n",
    "present_price_wellbeing(424, 424, 100)\n",
    "present_price_wellbeing(424, 424, 200)"
   ]
  },
  {
   "cell_type": "code",
   "execution_count": null,
   "metadata": {},
   "outputs": [],
   "source": [
    "# hypothesis: if consumption_today is high, consumption_expected_tomorrow is low, then price is high\n",
    "present_price_wellbeing(424, 424, 100)\n",
    "present_price_wellbeing(424, 324, 100)\n",
    "present_price_wellbeing(424, 224, 100)"
   ]
  },
  {
   "cell_type": "code",
   "execution_count": null,
   "metadata": {},
   "outputs": [],
   "source": [
    "# hypothesis: if consumption_today is low, consumption_expected_tomorrow is high, then price is low\n",
    "present_price_wellbeing(424, 424, 100)\n",
    "present_price_wellbeing(324, 424, 100)\n",
    "present_price_wellbeing(224, 424, 100)"
   ]
  },
  {
   "cell_type": "markdown",
   "metadata": {},
   "source": [
    "# Appendix"
   ]
  },
  {
   "cell_type": "code",
   "execution_count": null,
   "metadata": {},
   "outputs": [],
   "source": [
    "break"
   ]
  },
  {
   "cell_type": "code",
   "execution_count": null,
   "metadata": {},
   "outputs": [],
   "source": [
    "# intuit how wellbeing curve varies with gamma\n",
    "tunes_wellbeing = []\n",
    "for g in [0, 0.1, 0.25, 0.5, 0.75, 0.9]:\n",
    "    outcomes_wellbeing = transform_wellbeing(amounts_consumption, g)\n",
    "    outcomes_wellbeing = pd.DataFrame({\n",
    "        'consumption': amounts_consumption,\n",
    "        'wellbeing': outcomes_wellbeing,\n",
    "        'gamma': g\n",
    "    })\n",
    "    tunes_wellbeing.append(outcomes_wellbeing)\n",
    "\n",
    "tunes_wellbeing = pd.concat(tunes_wellbeing, axis=0, ignore_index=True)"
   ]
  },
  {
   "cell_type": "code",
   "execution_count": null,
   "metadata": {},
   "outputs": [],
   "source": [
    "(\n",
    "    p9.ggplot(tunes_wellbeing) + \n",
    "    p9.theme_bw() + \n",
    "    p9.geom_line(p9.aes('consumption', 'wellbeing', color='gamma', group='gamma')) + \n",
    "    p9.theme(figure_size=(8,3))\n",
    ")"
   ]
  },
  {
   "cell_type": "code",
   "execution_count": 168,
   "metadata": {},
   "outputs": [],
   "source": [
    "# example shows the special data structure expected by plotly\n",
    "# https://plotly.com/python/3d-scatter-plots/\n",
    "\n",
    "# Read data from a csv\n",
    "# z_data = pd.read_csv('https://raw.githubusercontent.com/plotly/datasets/master/api_docs/mt_bruno_elevation.csv')\n",
    "# z = z_data.values\n",
    "# sh_0, sh_1 = z.shape\n",
    "# x, y = np.linspace(0, 1, sh_0), np.linspace(0, 1, sh_1)\n",
    "# fig = go.Figure(data=[go.Surface(z=z, x=x, y=y)])\n",
    "# fig.update_layout(title=dict(text='Mt Bruno Elevation'), autosize=False,\n",
    "#                   width=500, height=500,\n",
    "#                   margin=dict(l=65, r=50, b=65, t=90))\n",
    "# fig.show()"
   ]
  },
  {
   "cell_type": "code",
   "execution_count": null,
   "metadata": {},
   "outputs": [],
   "source": [
    "# test: can i embed a plotly chart via html?\n",
    "fig = go.Figure(data=[go.Scatter(x=[1, 2, 3], y=[1, 4, 9])])\n",
    "\n",
    "# successful alternative: host via GitHub Pages\n",
    "# https://community.plotly.com/t/how-to-display-plotly-graph-on-github-pages/44398/3\n",
    "# steps:\n",
    "    # enable GitHub Pages in my repo\n",
    "    # write plot to html file\n",
    "# fig.write_html(\"./docs/test_plot.html\", include_plotlyjs='cdn')\n",
    "# https://abrahamalex13.github.io/learning-to-price-assets/test_plot\n",
    "\n",
    "# did not work: pasting below in Substack html editor\n",
    "# <div class=\"plotly-plot\"> {{ html_string }} </div>\n",
    "# where html_string -> \n",
    "    # html_string = fig.to_html(full_html=False, include_plotlyjs='cdn')\n",
    "    # print(html_string)"
   ]
  }
 ],
 "metadata": {
  "kernelspec": {
   "display_name": "learning_to_price_assets",
   "language": "python",
   "name": "python3"
  },
  "language_info": {
   "codemirror_mode": {
    "name": "ipython",
    "version": 3
   },
   "file_extension": ".py",
   "mimetype": "text/x-python",
   "name": "python",
   "nbconvert_exporter": "python",
   "pygments_lexer": "ipython3",
   "version": "3.10.16"
  }
 },
 "nbformat": 4,
 "nbformat_minor": 2
}
